{
 "cells": [
  {
   "cell_type": "code",
   "execution_count": 118,
   "metadata": {},
   "outputs": [
    {
     "name": "stdout",
     "output_type": "stream",
     "text": [
      "Requirement already satisfied: sklearn in /opt/homebrew/lib/python3.10/site-packages (0.0)\n",
      "Requirement already satisfied: scikit-learn in /opt/homebrew/lib/python3.10/site-packages (from sklearn) (1.0.2)\n",
      "Requirement already satisfied: joblib>=0.11 in /opt/homebrew/lib/python3.10/site-packages (from scikit-learn->sklearn) (1.1.0)\n",
      "Requirement already satisfied: scipy>=1.1.0 in /opt/homebrew/lib/python3.10/site-packages (from scikit-learn->sklearn) (1.8.0)\n",
      "Requirement already satisfied: threadpoolctl>=2.0.0 in /opt/homebrew/lib/python3.10/site-packages (from scikit-learn->sklearn) (3.1.0)\n",
      "Requirement already satisfied: numpy>=1.14.6 in /Users/ziyang/Library/Python/3.10/lib/python/site-packages (from scikit-learn->sklearn) (1.22.3)\n",
      "Requirement already satisfied: fastprogress in /opt/homebrew/lib/python3.10/site-packages (1.0.2)\n"
     ]
    }
   ],
   "source": [
    "!pip3 install sklearn\n",
    "!pip3 install fastprogress"
   ]
  },
  {
   "cell_type": "code",
   "execution_count": 119,
   "metadata": {},
   "outputs": [],
   "source": [
    "import numpy as np\n",
    "from argparse import Namespace\n",
    "from sklearn.cluster import KMeans\n",
    "from fastprogress import progress_bar\n",
    "import random"
   ]
  },
  {
   "cell_type": "code",
   "execution_count": 120,
   "metadata": {},
   "outputs": [],
   "source": [
    "args = Namespace(\n",
    "    n_clusters=10,\n",
    "    input_file=\"../data/dataset-1000000.txt\",\n",
    "    output_file=None,\n",
    ")\n",
    "\n",
    "if args.output_file is None:\n",
    "    if args.input_file.endswith(\".txt\"):\n",
    "        args.output_file = args.input_file.replace(\".txt\", f\".{args.n_clusters}.kmeans.txt\")\n",
    "    else:\n",
    "        args.output_file = args.input_file + f\".{args.n_clusters}.kmeans.txt\""
   ]
  },
  {
   "cell_type": "code",
   "execution_count": 121,
   "metadata": {},
   "outputs": [
    {
     "name": "stdout",
     "output_type": "stream",
     "text": [
      "█\r"
     ]
    }
   ],
   "source": [
    "with open(args.input_file) as f:\n",
    "    lines = f.readlines()\n",
    "vector_count = int(lines[0].strip())\n",
    "vectors = []\n",
    "vector_dim = 0\n",
    "for i in progress_bar(range(1, vector_count + 1)):\n",
    "    vector = [float(x) for x in lines[i].strip().split(\" \")]\n",
    "    if vector_dim == 0:\n",
    "        vector_dim = len(vector)\n",
    "    elif vector_dim != len(vector):\n",
    "        raise ValueError(f\"Vector dimension mismatch, expected {vector_dim}, got {len(vector)}\")\n",
    "    vectors.append(vector)\n",
    "data_array = np.array(vectors)"
   ]
  },
  {
   "cell_type": "code",
   "execution_count": 122,
   "metadata": {},
   "outputs": [],
   "source": [
    "kmeans = KMeans(n_clusters=args.n_clusters).fit(data_array)"
   ]
  },
  {
   "cell_type": "code",
   "execution_count": 123,
   "metadata": {},
   "outputs": [
    {
     "data": {
      "text/plain": [
       "1000000"
      ]
     },
     "execution_count": 123,
     "metadata": {},
     "output_type": "execute_result"
    }
   ],
   "source": [
    "len(kmeans.labels_)"
   ]
  },
  {
   "cell_type": "code",
   "execution_count": 124,
   "metadata": {},
   "outputs": [
    {
     "name": "stdout",
     "output_type": "stream",
     "text": [
      "█\r"
     ]
    }
   ],
   "source": [
    "with open(args.output_file, \"w\") as f:\n",
    "    label_count = len(kmeans.labels_)\n",
    "    f.write(str(label_count) + \"\\n\")\n",
    "    for i in progress_bar(range(label_count)):\n",
    "        label = kmeans.labels_[i]\n",
    "        # label = random.randint(0, args.n_clusters - 1)\n",
    "        f.write(str(label) + \"\\n\")\n",
    "        "
   ]
  },
  {
   "cell_type": "code",
   "execution_count": null,
   "metadata": {},
   "outputs": [],
   "source": []
  }
 ],
 "metadata": {
  "interpreter": {
   "hash": "57e1116c5ced3f91b11de2fa1e0d7a4ef085cc227ba3962416e0c205175a9417"
  },
  "kernelspec": {
   "display_name": "Python 3.10.2 64-bit",
   "language": "python",
   "name": "python3"
  },
  "language_info": {
   "codemirror_mode": {
    "name": "ipython",
    "version": 3
   },
   "file_extension": ".py",
   "mimetype": "text/x-python",
   "name": "python",
   "nbconvert_exporter": "python",
   "pygments_lexer": "ipython3",
   "version": "3.10.2"
  },
  "orig_nbformat": 4
 },
 "nbformat": 4,
 "nbformat_minor": 2
}
